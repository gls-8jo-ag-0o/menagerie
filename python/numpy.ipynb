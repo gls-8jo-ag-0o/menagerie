{
 "cells": [
  {
   "cell_type": "code",
   "execution_count": 3,
   "metadata": {},
   "outputs": [],
   "source": [
    "try:\n",
    "    import numpy as np\n",
    "except ModuleNotFoundError:\n",
    "    !pip install numpy\n",
    "    import numpy as np\n"
   ]
  },
  {
   "cell_type": "code",
   "execution_count": null,
   "metadata": {},
   "outputs": [
    {
     "name": "stdout",
     "output_type": "stream",
     "text": [
      "Min: -2147483648\n",
      "Max: 2147483647\n"
     ]
    }
   ],
   "source": [
    "# https://numpy.org/doc/stable/reference/arrays.dtypes.html\n",
    "dt = np.dtype('i4')          # 32-bit signed integer\n",
    "# dt = np.dtype('B')           #  8-bit unsigned integer\n",
    "# dt = np.uint8                #  8-bit unsigned integer\n",
    "dta = np.dtype((dt, 10))     #  8-bit unsigned integer, 10 bytes wide\n",
    "\n",
    "info = np.iinfo(dt)             # Machine limits for integer types. Equivelent of <LIMIITS>\n",
    "# https://numpy.org/doc/stable/reference/generated/numpy.iinfo.html\n",
    "print(\"Min:\", info.min)\n",
    "print(\"Max:\", info.max)"
   ]
  }
 ],
 "metadata": {
  "kernelspec": {
   "display_name": ".venv",
   "language": "python",
   "name": "python3"
  },
  "language_info": {
   "codemirror_mode": {
    "name": "ipython",
    "version": 3
   },
   "file_extension": ".py",
   "mimetype": "text/x-python",
   "name": "python",
   "nbconvert_exporter": "python",
   "pygments_lexer": "ipython3",
   "version": "3.12.3"
  }
 },
 "nbformat": 4,
 "nbformat_minor": 2
}
